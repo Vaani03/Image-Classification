{
  "nbformat": 4,
  "nbformat_minor": 0,
  "metadata": {
    "accelerator": "GPU",
    "colab": {
      "name": "image_classification.ipynb",
      "provenance": [],
      "collapsed_sections": []
    },
    "kernelspec": {
      "display_name": "Python 3",
      "name": "python3"
    }
  },
  "cells": [
    {
      "cell_type": "code",
      "metadata": {
        "id": "FwmiYQKI3GsX"
      },
      "source": [
        "import tensorflow as tf\n",
        "from tensorflow.keras import datasets, layers, models\n",
        "import matplotlib.pyplot as plt\n",
        "import numpy as np"
      ],
      "execution_count": null,
      "outputs": []
    },
    {
      "cell_type": "code",
      "metadata": {
        "id": "bFC0Lma13Rzv"
      },
      "source": [
        "(X_train, y_train), (X_test,y_test) = datasets.cifar10.load_data()\n"
      ],
      "execution_count": null,
      "outputs": []
    },
    {
      "cell_type": "code",
      "metadata": {
        "colab": {
          "base_uri": "https://localhost:8080/"
        },
        "id": "zMC6o32qUiAv",
        "outputId": "9893770f-549a-4138-ef8f-6af38109c335"
      },
      "source": [
        "print(\"Train shape : \",X_train.shape)\n",
        "print(\"Test shape : \",X_test.shape)"
      ],
      "execution_count": null,
      "outputs": [
        {
          "output_type": "stream",
          "text": [
            "Train shape :  (50000, 32, 32, 3)\n",
            "Test shape :  (10000, 32, 32, 3)\n"
          ],
          "name": "stdout"
        }
      ]
    },
    {
      "cell_type": "code",
      "metadata": {
        "colab": {
          "base_uri": "https://localhost:8080/"
        },
        "id": "mXlDs_w4U1jQ",
        "outputId": "cde5e94a-30d7-4506-c8a5-f583fc2c8450"
      },
      "source": [
        "y_train.shape"
      ],
      "execution_count": null,
      "outputs": [
        {
          "output_type": "execute_result",
          "data": {
            "text/plain": [
              "(50000, 1)"
            ]
          },
          "metadata": {
            "tags": []
          },
          "execution_count": 228
        }
      ]
    },
    {
      "cell_type": "code",
      "metadata": {
        "colab": {
          "base_uri": "https://localhost:8080/"
        },
        "id": "GNsmskNGVBm8",
        "outputId": "e99c6736-a6e3-4417-a521-af6d81820f0a"
      },
      "source": [
        "y_test.shape"
      ],
      "execution_count": null,
      "outputs": [
        {
          "output_type": "execute_result",
          "data": {
            "text/plain": [
              "(10000, 1)"
            ]
          },
          "metadata": {
            "tags": []
          },
          "execution_count": 229
        }
      ]
    },
    {
      "cell_type": "code",
      "metadata": {
        "colab": {
          "base_uri": "https://localhost:8080/"
        },
        "id": "9_0HF-6NVGwc",
        "outputId": "efcc92a8-2902-48b7-b02a-253d09d4608c"
      },
      "source": [
        "y_train[:5]"
      ],
      "execution_count": null,
      "outputs": [
        {
          "output_type": "execute_result",
          "data": {
            "text/plain": [
              "array([[6],\n",
              "       [9],\n",
              "       [9],\n",
              "       [4],\n",
              "       [1]], dtype=uint8)"
            ]
          },
          "metadata": {
            "tags": []
          },
          "execution_count": 230
        }
      ]
    },
    {
      "cell_type": "code",
      "metadata": {
        "colab": {
          "base_uri": "https://localhost:8080/"
        },
        "id": "6IKrokAiVHOU",
        "outputId": "8f128e3d-9f82-4f56-abf0-9cbbcdbed6bc"
      },
      "source": [
        "y_train = y_train.reshape(-1,)\n",
        "y_train[:5]"
      ],
      "execution_count": null,
      "outputs": [
        {
          "output_type": "execute_result",
          "data": {
            "text/plain": [
              "array([6, 9, 9, 4, 1], dtype=uint8)"
            ]
          },
          "metadata": {
            "tags": []
          },
          "execution_count": 231
        }
      ]
    },
    {
      "cell_type": "code",
      "metadata": {
        "colab": {
          "base_uri": "https://localhost:8080/"
        },
        "id": "NyGRDfrKVTHv",
        "outputId": "88a8c52b-2c8f-49c1-9286-9d6f0974ef67"
      },
      "source": [
        "y_test = y_test.reshape(-1,)\n",
        "y_test[:5]"
      ],
      "execution_count": null,
      "outputs": [
        {
          "output_type": "execute_result",
          "data": {
            "text/plain": [
              "array([3, 8, 8, 0, 6], dtype=uint8)"
            ]
          },
          "metadata": {
            "tags": []
          },
          "execution_count": 232
        }
      ]
    },
    {
      "cell_type": "code",
      "metadata": {
        "colab": {
          "base_uri": "https://localhost:8080/"
        },
        "id": "buQ97fTlV_9N",
        "outputId": "6c394c48-7215-442c-b48c-e737334557f4"
      },
      "source": [
        "X_train[70].size"
      ],
      "execution_count": null,
      "outputs": [
        {
          "output_type": "execute_result",
          "data": {
            "text/plain": [
              "3072"
            ]
          },
          "metadata": {
            "tags": []
          },
          "execution_count": 233
        }
      ]
    },
    {
      "cell_type": "code",
      "metadata": {
        "colab": {
          "base_uri": "https://localhost:8080/"
        },
        "id": "I2g__0q_XU7d",
        "outputId": "71673502-5636-4b99-f63f-98e230cd0b96"
      },
      "source": [
        "y_train[70]"
      ],
      "execution_count": null,
      "outputs": [
        {
          "output_type": "execute_result",
          "data": {
            "text/plain": [
              "5"
            ]
          },
          "metadata": {
            "tags": []
          },
          "execution_count": 234
        }
      ]
    },
    {
      "cell_type": "code",
      "metadata": {
        "id": "CYUkwz_WY72Y"
      },
      "source": [
        "classes = [\"airplane\",\"automobile\",\"bird\",\"cat\",\"deer\",\"dog\",\"frog\",\"horse\",\"ship\",\"truck\"]"
      ],
      "execution_count": null,
      "outputs": []
    },
    {
      "cell_type": "code",
      "metadata": {
        "id": "ixMOlX6YXhuL"
      },
      "source": [
        "def show_image(X,y,index):\n",
        "  plt.figure(figsize=(15,3))\n",
        "  plt.imshow(X[index])\n",
        "  plt.xlabel(classes[y[index]])\n"
      ],
      "execution_count": null,
      "outputs": []
    },
    {
      "cell_type": "code",
      "metadata": {
        "id": "mwhN8CfzZZrl"
      },
      "source": [
        "# Normalisation of data\n",
        "X_train = X_train.astype('float32') / 255.0\n",
        "X_test = X_test.astype('float32') / 255.0"
      ],
      "execution_count": null,
      "outputs": []
    },
    {
      "cell_type": "code",
      "metadata": {
        "colab": {
          "base_uri": "https://localhost:8080/",
          "height": 226
        },
        "id": "ivRBx0P3nhTp",
        "outputId": "6452bcb1-f43e-44f2-ddcb-5ff1786c5bb2"
      },
      "source": [
        "show_image(X_train,y_train,123)"
      ],
      "execution_count": null,
      "outputs": [
        {
          "output_type": "display_data",
          "data": {
            "image/png": "[encoded data removed]",
            "text/plain": [
              "<Figure size 1080x216 with 1 Axes>"
            ]
          },
          "metadata": {
            "tags": [],
            "needs_background": "light"
          }
        }
      ]
    },
    {
      "cell_type": "code",
      "metadata": {
        "id": "x08HdKZXcF6D"
      },
      "source": [
        "cnn = models.Sequential([\n",
        "    layers.Conv2D(filters=32, kernel_size=(3, 3), activation='relu', input_shape=(32, 32, 3)),\n",
        "    layers.MaxPooling2D((2, 2)),\n",
        "    layers.Dropout(0.2),\n",
        "    layers.Conv2D(filters=64, kernel_size=(3, 3), activation='relu'),\n",
        "    layers.MaxPooling2D((2, 2)),\n",
        "    layers.Dropout(0.2),\n",
        "    layers.Flatten(),\n",
        "    layers.Dense(64, activation='relu'),\n",
        "    layers.Dense(10, activation='softmax')\n",
        "])"
      ],
      "execution_count": null,
      "outputs": []
    },
    {
      "cell_type": "code",
      "metadata": {
        "id": "EJRnsVbncy5l"
      },
      "source": [
        "cnn.compile(optimizer='adam',\n",
        "              loss='sparse_categorical_crossentropy',\n",
        "              metrics=['accuracy'])"
      ],
      "execution_count": null,
      "outputs": []
    },
    {
      "cell_type": "code",
      "metadata": {
        "colab": {
          "base_uri": "https://localhost:8080/"
        },
        "id": "X9FioSUyc0wa",
        "outputId": "ea60ae78-c724-4887-bfcc-9ad555e996be"
      },
      "source": [
        "# fit model\n",
        "history = cnn.fit(X_train, y_train, validation_data=(X_test, y_test),batch_size=128,epochs=100,\n",
        "                    verbose=1)"
      ],
      "execution_count": null,
      "outputs": [
        {
          "output_type": "stream",
          "text": [
            "Epoch 1/100\n",
            "391/391 [==============================] - 3s 7ms/step - loss: 1.6245 - accuracy: 0.4134 - val_loss: 1.3681 - val_accuracy: 0.5114\n",
            "Epoch 2/100\n",
            "391/391 [==============================] - 2s 6ms/step - loss: 1.2973 - accuracy: 0.5395 - val_loss: 1.2163 - val_accuracy: 0.5750\n",
            "Epoch 3/100\n",
            "391/391 [==============================] - 2s 6ms/step - loss: 1.1663 - accuracy: 0.5903 - val_loss: 1.1201 - val_accuracy: 0.6154\n",
            "Epoch 4/100\n",
            "391/391 [==============================] - 2s 6ms/step - loss: 1.0782 - accuracy: 0.6223 - val_loss: 1.0362 - val_accuracy: 0.6450\n",
            "Epoch 5/100\n",
            "391/391 [==============================] - 2s 6ms/step - loss: 1.0139 - accuracy: 0.6447 - val_loss: 0.9892 - val_accuracy: 0.6636\n",
            "Epoch 6/100\n",
            "391/391 [==============================] - 2s 6ms/step - loss: 0.9662 - accuracy: 0.6624 - val_loss: 0.9461 - val_accuracy: 0.6729\n",
            "Epoch 7/100\n",
            "391/391 [==============================] - 2s 6ms/step - loss: 0.9343 - accuracy: 0.6746 - val_loss: 0.9460 - val_accuracy: 0.6728\n",
            "Epoch 8/100\n",
            "391/391 [==============================] - 2s 6ms/step - loss: 0.8950 - accuracy: 0.6868 - val_loss: 0.8895 - val_accuracy: 0.6969\n",
            "Epoch 9/100\n",
            "391/391 [==============================] - 2s 6ms/step - loss: 0.8668 - accuracy: 0.6965 - val_loss: 0.8898 - val_accuracy: 0.6956\n",
            "Epoch 10/100\n",
            "391/391 [==============================] - 2s 6ms/step - loss: 0.8363 - accuracy: 0.7077 - val_loss: 0.8985 - val_accuracy: 0.6920\n",
            "Epoch 11/100\n",
            "391/391 [==============================] - 2s 6ms/step - loss: 0.8129 - accuracy: 0.7164 - val_loss: 0.8738 - val_accuracy: 0.6986\n",
            "Epoch 12/100\n",
            "391/391 [==============================] - 2s 6ms/step - loss: 0.7882 - accuracy: 0.7248 - val_loss: 0.8575 - val_accuracy: 0.7053\n",
            "Epoch 13/100\n",
            "391/391 [==============================] - 2s 6ms/step - loss: 0.7734 - accuracy: 0.7303 - val_loss: 0.8919 - val_accuracy: 0.6911\n",
            "Epoch 14/100\n",
            "391/391 [==============================] - 2s 6ms/step - loss: 0.7459 - accuracy: 0.7383 - val_loss: 0.8611 - val_accuracy: 0.7062\n",
            "Epoch 15/100\n",
            "391/391 [==============================] - 2s 6ms/step - loss: 0.7392 - accuracy: 0.7427 - val_loss: 0.8210 - val_accuracy: 0.7177\n",
            "Epoch 16/100\n",
            "391/391 [==============================] - 2s 6ms/step - loss: 0.7194 - accuracy: 0.7482 - val_loss: 0.8400 - val_accuracy: 0.7109\n",
            "Epoch 17/100\n",
            "391/391 [==============================] - 2s 6ms/step - loss: 0.7029 - accuracy: 0.7538 - val_loss: 0.8303 - val_accuracy: 0.7176\n",
            "Epoch 18/100\n",
            "391/391 [==============================] - 2s 6ms/step - loss: 0.6902 - accuracy: 0.7572 - val_loss: 0.8297 - val_accuracy: 0.7165\n",
            "Epoch 19/100\n",
            "391/391 [==============================] - 2s 6ms/step - loss: 0.6775 - accuracy: 0.7626 - val_loss: 0.8123 - val_accuracy: 0.7226\n",
            "Epoch 20/100\n",
            "391/391 [==============================] - 2s 6ms/step - loss: 0.6550 - accuracy: 0.7690 - val_loss: 0.8362 - val_accuracy: 0.7180\n",
            "Epoch 21/100\n",
            "391/391 [==============================] - 2s 6ms/step - loss: 0.6460 - accuracy: 0.7739 - val_loss: 0.8270 - val_accuracy: 0.7260\n",
            "Epoch 22/100\n",
            "391/391 [==============================] - 2s 6ms/step - loss: 0.6370 - accuracy: 0.7771 - val_loss: 0.8191 - val_accuracy: 0.7225\n",
            "Epoch 23/100\n",
            "391/391 [==============================] - 2s 6ms/step - loss: 0.6289 - accuracy: 0.7787 - val_loss: 0.8306 - val_accuracy: 0.7167\n",
            "Epoch 24/100\n",
            "391/391 [==============================] - 2s 6ms/step - loss: 0.6214 - accuracy: 0.7802 - val_loss: 0.8109 - val_accuracy: 0.7245\n",
            "Epoch 25/100\n",
            "391/391 [==============================] - 2s 6ms/step - loss: 0.6099 - accuracy: 0.7836 - val_loss: 0.8117 - val_accuracy: 0.7253\n",
            "Epoch 26/100\n",
            "391/391 [==============================] - 2s 6ms/step - loss: 0.5975 - accuracy: 0.7880 - val_loss: 0.8245 - val_accuracy: 0.7248\n",
            "Epoch 27/100\n",
            "391/391 [==============================] - 2s 6ms/step - loss: 0.5838 - accuracy: 0.7936 - val_loss: 0.8416 - val_accuracy: 0.7143\n",
            "Epoch 28/100\n",
            "391/391 [==============================] - 2s 6ms/step - loss: 0.5859 - accuracy: 0.7910 - val_loss: 0.8236 - val_accuracy: 0.7208\n",
            "Epoch 29/100\n",
            "391/391 [==============================] - 2s 6ms/step - loss: 0.5665 - accuracy: 0.7984 - val_loss: 0.8378 - val_accuracy: 0.7211\n",
            "Epoch 30/100\n",
            "391/391 [==============================] - 2s 6ms/step - loss: 0.5581 - accuracy: 0.8041 - val_loss: 0.8258 - val_accuracy: 0.7241\n",
            "Epoch 31/100\n",
            "391/391 [==============================] - 2s 6ms/step - loss: 0.5536 - accuracy: 0.8036 - val_loss: 0.8227 - val_accuracy: 0.7271\n",
            "Epoch 32/100\n",
            "391/391 [==============================] - 2s 6ms/step - loss: 0.5476 - accuracy: 0.8053 - val_loss: 0.8275 - val_accuracy: 0.7278\n",
            "Epoch 33/100\n",
            "391/391 [==============================] - 2s 6ms/step - loss: 0.5396 - accuracy: 0.8071 - val_loss: 0.8415 - val_accuracy: 0.7265\n",
            "Epoch 34/100\n",
            "391/391 [==============================] - 2s 6ms/step - loss: 0.5335 - accuracy: 0.8099 - val_loss: 0.8284 - val_accuracy: 0.7295\n",
            "Epoch 35/100\n",
            "391/391 [==============================] - 2s 6ms/step - loss: 0.5286 - accuracy: 0.8108 - val_loss: 0.8347 - val_accuracy: 0.7258\n",
            "Epoch 36/100\n",
            "391/391 [==============================] - 2s 6ms/step - loss: 0.5200 - accuracy: 0.8140 - val_loss: 0.8342 - val_accuracy: 0.7236\n",
            "Epoch 37/100\n",
            "391/391 [==============================] - 2s 6ms/step - loss: 0.5183 - accuracy: 0.8142 - val_loss: 0.8214 - val_accuracy: 0.7332\n",
            "Epoch 38/100\n",
            "391/391 [==============================] - 2s 6ms/step - loss: 0.5147 - accuracy: 0.8167 - val_loss: 0.8289 - val_accuracy: 0.7267\n",
            "Epoch 39/100\n",
            "391/391 [==============================] - 2s 6ms/step - loss: 0.5006 - accuracy: 0.8217 - val_loss: 0.8377 - val_accuracy: 0.7317\n",
            "Epoch 40/100\n",
            "391/391 [==============================] - 2s 6ms/step - loss: 0.4966 - accuracy: 0.8231 - val_loss: 0.8465 - val_accuracy: 0.7256\n",
            "Epoch 41/100\n",
            "391/391 [==============================] - 2s 6ms/step - loss: 0.4880 - accuracy: 0.8256 - val_loss: 0.8633 - val_accuracy: 0.7257\n",
            "Epoch 42/100\n",
            "391/391 [==============================] - 2s 6ms/step - loss: 0.4827 - accuracy: 0.8244 - val_loss: 0.8630 - val_accuracy: 0.7234\n",
            "Epoch 43/100\n",
            "391/391 [==============================] - 2s 6ms/step - loss: 0.4789 - accuracy: 0.8280 - val_loss: 0.8375 - val_accuracy: 0.7292\n",
            "Epoch 44/100\n",
            "391/391 [==============================] - 2s 6ms/step - loss: 0.4759 - accuracy: 0.8306 - val_loss: 0.8591 - val_accuracy: 0.7244\n",
            "Epoch 45/100\n",
            "391/391 [==============================] - 2s 6ms/step - loss: 0.4711 - accuracy: 0.8337 - val_loss: 0.8380 - val_accuracy: 0.7362\n",
            "Epoch 46/100\n",
            "391/391 [==============================] - 2s 6ms/step - loss: 0.4670 - accuracy: 0.8324 - val_loss: 0.8538 - val_accuracy: 0.7283\n",
            "Epoch 47/100\n",
            "391/391 [==============================] - 2s 6ms/step - loss: 0.4581 - accuracy: 0.8375 - val_loss: 0.8479 - val_accuracy: 0.7280\n",
            "Epoch 48/100\n",
            "391/391 [==============================] - 2s 6ms/step - loss: 0.4579 - accuracy: 0.8361 - val_loss: 0.8718 - val_accuracy: 0.7324\n",
            "Epoch 49/100\n",
            "391/391 [==============================] - 2s 6ms/step - loss: 0.4532 - accuracy: 0.8371 - val_loss: 0.8761 - val_accuracy: 0.7279\n",
            "Epoch 50/100\n",
            "391/391 [==============================] - 2s 6ms/step - loss: 0.4428 - accuracy: 0.8412 - val_loss: 0.8625 - val_accuracy: 0.7300\n",
            "Epoch 51/100\n",
            "391/391 [==============================] - 2s 6ms/step - loss: 0.4439 - accuracy: 0.8404 - val_loss: 0.8662 - val_accuracy: 0.7303\n",
            "Epoch 52/100\n",
            "391/391 [==============================] - 2s 6ms/step - loss: 0.4408 - accuracy: 0.8409 - val_loss: 0.8758 - val_accuracy: 0.7273\n",
            "Epoch 53/100\n",
            "391/391 [==============================] - 2s 6ms/step - loss: 0.4358 - accuracy: 0.8444 - val_loss: 0.8616 - val_accuracy: 0.7323\n",
            "Epoch 54/100\n",
            "391/391 [==============================] - 2s 6ms/step - loss: 0.4261 - accuracy: 0.8464 - val_loss: 0.8749 - val_accuracy: 0.7319\n",
            "Epoch 55/100\n",
            "391/391 [==============================] - 2s 6ms/step - loss: 0.4259 - accuracy: 0.8459 - val_loss: 0.8924 - val_accuracy: 0.7306\n",
            "Epoch 56/100\n",
            "391/391 [==============================] - 2s 6ms/step - loss: 0.4206 - accuracy: 0.8487 - val_loss: 0.8822 - val_accuracy: 0.7332\n",
            "Epoch 57/100\n",
            "391/391 [==============================] - 2s 6ms/step - loss: 0.4194 - accuracy: 0.8499 - val_loss: 0.8745 - val_accuracy: 0.7336\n",
            "Epoch 58/100\n",
            "391/391 [==============================] - 2s 6ms/step - loss: 0.4156 - accuracy: 0.8519 - val_loss: 0.8783 - val_accuracy: 0.7331\n",
            "Epoch 59/100\n",
            "391/391 [==============================] - 2s 6ms/step - loss: 0.4124 - accuracy: 0.8517 - val_loss: 0.8849 - val_accuracy: 0.7342\n",
            "Epoch 60/100\n",
            "391/391 [==============================] - 2s 6ms/step - loss: 0.4059 - accuracy: 0.8541 - val_loss: 0.9037 - val_accuracy: 0.7314\n",
            "Epoch 61/100\n",
            "391/391 [==============================] - 2s 6ms/step - loss: 0.4035 - accuracy: 0.8560 - val_loss: 0.9070 - val_accuracy: 0.7304\n",
            "Epoch 62/100\n",
            "391/391 [==============================] - 2s 6ms/step - loss: 0.3997 - accuracy: 0.8568 - val_loss: 0.9169 - val_accuracy: 0.7285\n",
            "Epoch 63/100\n",
            "391/391 [==============================] - 2s 6ms/step - loss: 0.3936 - accuracy: 0.8587 - val_loss: 0.9171 - val_accuracy: 0.7236\n",
            "Epoch 64/100\n",
            "391/391 [==============================] - 2s 6ms/step - loss: 0.3932 - accuracy: 0.8591 - val_loss: 0.9169 - val_accuracy: 0.7257\n",
            "Epoch 65/100\n",
            "391/391 [==============================] - 2s 6ms/step - loss: 0.3866 - accuracy: 0.8624 - val_loss: 0.9092 - val_accuracy: 0.7250\n",
            "Epoch 66/100\n",
            "391/391 [==============================] - 2s 6ms/step - loss: 0.3932 - accuracy: 0.8569 - val_loss: 0.9143 - val_accuracy: 0.7278\n",
            "Epoch 67/100\n",
            "391/391 [==============================] - 2s 6ms/step - loss: 0.3879 - accuracy: 0.8616 - val_loss: 0.9264 - val_accuracy: 0.7281\n",
            "Epoch 68/100\n",
            "391/391 [==============================] - 2s 6ms/step - loss: 0.3834 - accuracy: 0.8618 - val_loss: 0.9516 - val_accuracy: 0.7294\n",
            "Epoch 69/100\n",
            "391/391 [==============================] - 2s 6ms/step - loss: 0.3798 - accuracy: 0.8624 - val_loss: 0.9478 - val_accuracy: 0.7268\n",
            "Epoch 70/100\n",
            "391/391 [==============================] - 2s 6ms/step - loss: 0.3725 - accuracy: 0.8661 - val_loss: 0.9292 - val_accuracy: 0.7299\n",
            "Epoch 71/100\n",
            "391/391 [==============================] - 2s 6ms/step - loss: 0.3719 - accuracy: 0.8688 - val_loss: 0.9232 - val_accuracy: 0.7318\n",
            "Epoch 72/100\n",
            "391/391 [==============================] - 2s 6ms/step - loss: 0.3665 - accuracy: 0.8685 - val_loss: 0.9425 - val_accuracy: 0.7275\n",
            "Epoch 73/100\n",
            "391/391 [==============================] - 2s 6ms/step - loss: 0.3674 - accuracy: 0.8686 - val_loss: 0.9358 - val_accuracy: 0.7300\n",
            "Epoch 74/100\n",
            "391/391 [==============================] - 2s 6ms/step - loss: 0.3671 - accuracy: 0.8674 - val_loss: 0.9369 - val_accuracy: 0.7276\n",
            "Epoch 75/100\n",
            "391/391 [==============================] - 2s 6ms/step - loss: 0.3656 - accuracy: 0.8686 - val_loss: 0.9400 - val_accuracy: 0.7281\n",
            "Epoch 76/100\n",
            "391/391 [==============================] - 2s 6ms/step - loss: 0.3653 - accuracy: 0.8699 - val_loss: 0.9427 - val_accuracy: 0.7262\n",
            "Epoch 77/100\n",
            "391/391 [==============================] - 2s 6ms/step - loss: 0.3597 - accuracy: 0.8706 - val_loss: 0.9487 - val_accuracy: 0.7260\n",
            "Epoch 78/100\n",
            "391/391 [==============================] - 2s 6ms/step - loss: 0.3528 - accuracy: 0.8733 - val_loss: 0.9608 - val_accuracy: 0.7294\n",
            "Epoch 79/100\n",
            "391/391 [==============================] - 2s 6ms/step - loss: 0.3513 - accuracy: 0.8738 - val_loss: 0.9565 - val_accuracy: 0.7275\n",
            "Epoch 80/100\n",
            "391/391 [==============================] - 2s 6ms/step - loss: 0.3515 - accuracy: 0.8723 - val_loss: 0.9506 - val_accuracy: 0.7203\n",
            "Epoch 81/100\n",
            "391/391 [==============================] - 2s 6ms/step - loss: 0.3466 - accuracy: 0.8746 - val_loss: 0.9474 - val_accuracy: 0.7337\n",
            "Epoch 82/100\n",
            "391/391 [==============================] - 2s 6ms/step - loss: 0.3488 - accuracy: 0.8738 - val_loss: 0.9575 - val_accuracy: 0.7252\n",
            "Epoch 83/100\n",
            "391/391 [==============================] - 2s 6ms/step - loss: 0.3427 - accuracy: 0.8754 - val_loss: 0.9591 - val_accuracy: 0.7302\n",
            "Epoch 84/100\n",
            "391/391 [==============================] - 2s 6ms/step - loss: 0.3423 - accuracy: 0.8760 - val_loss: 0.9570 - val_accuracy: 0.7232\n",
            "Epoch 85/100\n",
            "391/391 [==============================] - 2s 6ms/step - loss: 0.3455 - accuracy: 0.8760 - val_loss: 0.9582 - val_accuracy: 0.7291\n",
            "Epoch 86/100\n",
            "391/391 [==============================] - 2s 6ms/step - loss: 0.3424 - accuracy: 0.8759 - val_loss: 0.9635 - val_accuracy: 0.7301\n",
            "Epoch 87/100\n",
            "391/391 [==============================] - 2s 6ms/step - loss: 0.3411 - accuracy: 0.8774 - val_loss: 0.9572 - val_accuracy: 0.7289\n",
            "Epoch 88/100\n",
            "391/391 [==============================] - 2s 6ms/step - loss: 0.3351 - accuracy: 0.8785 - val_loss: 0.9755 - val_accuracy: 0.7298\n",
            "Epoch 89/100\n",
            "391/391 [==============================] - 2s 6ms/step - loss: 0.3350 - accuracy: 0.8800 - val_loss: 0.9786 - val_accuracy: 0.7195\n",
            "Epoch 90/100\n",
            "391/391 [==============================] - 2s 6ms/step - loss: 0.3386 - accuracy: 0.8781 - val_loss: 0.9990 - val_accuracy: 0.7271\n",
            "Epoch 91/100\n",
            "391/391 [==============================] - 2s 6ms/step - loss: 0.3265 - accuracy: 0.8831 - val_loss: 0.9968 - val_accuracy: 0.7215\n",
            "Epoch 92/100\n",
            "391/391 [==============================] - 2s 6ms/step - loss: 0.3282 - accuracy: 0.8834 - val_loss: 0.9845 - val_accuracy: 0.7290\n",
            "Epoch 93/100\n",
            "391/391 [==============================] - 2s 6ms/step - loss: 0.3297 - accuracy: 0.8813 - val_loss: 1.0156 - val_accuracy: 0.7171\n",
            "Epoch 94/100\n",
            "391/391 [==============================] - 2s 6ms/step - loss: 0.3240 - accuracy: 0.8849 - val_loss: 1.0238 - val_accuracy: 0.7248\n",
            "Epoch 95/100\n",
            "391/391 [==============================] - 2s 6ms/step - loss: 0.3225 - accuracy: 0.8827 - val_loss: 0.9904 - val_accuracy: 0.7230\n",
            "Epoch 96/100\n",
            "391/391 [==============================] - 2s 6ms/step - loss: 0.3229 - accuracy: 0.8829 - val_loss: 0.9958 - val_accuracy: 0.7365\n",
            "Epoch 97/100\n",
            "391/391 [==============================] - 2s 6ms/step - loss: 0.3155 - accuracy: 0.8855 - val_loss: 0.9944 - val_accuracy: 0.7272\n",
            "Epoch 98/100\n",
            "391/391 [==============================] - 2s 6ms/step - loss: 0.3218 - accuracy: 0.8835 - val_loss: 1.0126 - val_accuracy: 0.7298\n",
            "Epoch 99/100\n",
            "391/391 [==============================] - 2s 6ms/step - loss: 0.3220 - accuracy: 0.8841 - val_loss: 1.0177 - val_accuracy: 0.7243\n",
            "Epoch 100/100\n",
            "391/391 [==============================] - 2s 6ms/step - loss: 0.3155 - accuracy: 0.8873 - val_loss: 0.9922 - val_accuracy: 0.7267\n"
          ],
          "name": "stdout"
        }
      ]
    },
    {
      "cell_type": "code",
      "metadata": {
        "colab": {
          "base_uri": "https://localhost:8080/"
        },
        "id": "hjtVBtDfrUwf",
        "outputId": "59610400-0f24-4ca4-8823-d61fef18ff43"
      },
      "source": [
        "print('\\nhistory dict:', history.history)"
      ],
      "execution_count": null,
      "outputs": [
        {
          "output_type": "stream",
          "text": [
            "\n",
            "history dict: {'loss': [1.624483585357666, 1.2973204851150513, 1.1662732362747192, 1.0781631469726562, 1.0139377117156982, 0.9662472605705261, 0.9342920184135437, 0.8950093984603882, 0.8668240904808044, 0.8362981081008911, 0.812879204750061, 0.7881840467453003, 0.7734126448631287, 0.7459472417831421, 0.7391957640647888, 0.7193875908851624, 0.7028549909591675, 0.6901588439941406, 0.6774693131446838, 0.6549627184867859, 0.645967423915863, 0.6370435357093811, 0.6289056539535522, 0.6214122772216797, 0.609879195690155, 0.5974698066711426, 0.5837897658348083, 0.5858917832374573, 0.5665428638458252, 0.5581225752830505, 0.5536388158798218, 0.547635555267334, 0.5395957231521606, 0.533480167388916, 0.5286372900009155, 0.5199593901634216, 0.5183083415031433, 0.5147161483764648, 0.500575065612793, 0.49656903743743896, 0.4879923462867737, 0.48273393511772156, 0.47894716262817383, 0.4759286344051361, 0.4711472690105438, 0.46696868538856506, 0.4581240713596344, 0.45792731642723083, 0.4532308876514435, 0.4428148865699768, 0.4438856542110443, 0.44077712297439575, 0.4358457326889038, 0.426084965467453, 0.42594781517982483, 0.42062824964523315, 0.4194073975086212, 0.4155702590942383, 0.41244831681251526, 0.40592309832572937, 0.4034998118877411, 0.3997313678264618, 0.3935520350933075, 0.3931707441806793, 0.3866034746170044, 0.3932134509086609, 0.38787567615509033, 0.38342562317848206, 0.3798065185546875, 0.3725212812423706, 0.3718778192996979, 0.3664984703063965, 0.367424339056015, 0.36705514788627625, 0.36557140946388245, 0.36532899737358093, 0.35972246527671814, 0.3528002202510834, 0.35127362608909607, 0.35145315527915955, 0.34661242365837097, 0.3487715721130371, 0.342693954706192, 0.3423450291156769, 0.3454543352127075, 0.34244969487190247, 0.3410526216030121, 0.3350676894187927, 0.33503562211990356, 0.3386458158493042, 0.3264579176902771, 0.3282439112663269, 0.32972222566604614, 0.32400739192962646, 0.3224939703941345, 0.3229372501373291, 0.3154985010623932, 0.3218354284763336, 0.3220003843307495, 0.31554555892944336], 'accuracy': [0.4134399890899658, 0.5394600033760071, 0.5902600288391113, 0.6223199963569641, 0.6447200179100037, 0.6623600125312805, 0.674560010433197, 0.6867600083351135, 0.6964600086212158, 0.7077199816703796, 0.7164400219917297, 0.7247999906539917, 0.7303400039672852, 0.7383000254631042, 0.7427399754524231, 0.7482200264930725, 0.7537599802017212, 0.7572199702262878, 0.7626000046730042, 0.7689599990844727, 0.7738800048828125, 0.7771199941635132, 0.7786999940872192, 0.7802199721336365, 0.7835999727249146, 0.7880399823188782, 0.7936000227928162, 0.7909799814224243, 0.7983599901199341, 0.8041200041770935, 0.8035600185394287, 0.8053200244903564, 0.8071200251579285, 0.8098999857902527, 0.8108199834823608, 0.8140199780464172, 0.8141599893569946, 0.8167399764060974, 0.8216599822044373, 0.823140025138855, 0.8256000280380249, 0.8244400024414062, 0.8279600143432617, 0.830560028553009, 0.8337399959564209, 0.8324199914932251, 0.8375200033187866, 0.8360999822616577, 0.8370800018310547, 0.8411999940872192, 0.840399980545044, 0.8408600091934204, 0.8443599939346313, 0.8464199900627136, 0.8458999991416931, 0.8486800193786621, 0.8498799800872803, 0.851859986782074, 0.8517400026321411, 0.8541200160980225, 0.8560199737548828, 0.8567600250244141, 0.8586599826812744, 0.8590800166130066, 0.8623600006103516, 0.856939971446991, 0.8616200089454651, 0.8618199825286865, 0.8624399900436401, 0.8661400079727173, 0.8688200116157532, 0.8684999942779541, 0.8686000108718872, 0.8674399852752686, 0.8686000108718872, 0.869920015335083, 0.8705800175666809, 0.8732799887657166, 0.8737800121307373, 0.8722599744796753, 0.8745599985122681, 0.8737800121307373, 0.8753600120544434, 0.875980019569397, 0.876039981842041, 0.8758999705314636, 0.8773999810218811, 0.8784599900245667, 0.8800399899482727, 0.8780800104141235, 0.8831400275230408, 0.8833600282669067, 0.8812599778175354, 0.8849200010299683, 0.8826599717140198, 0.8828999996185303, 0.8855199813842773, 0.8835200071334839, 0.8840600252151489, 0.8873400092124939], 'val_loss': [1.3680596351623535, 1.2162933349609375, 1.120102882385254, 1.0361530780792236, 0.9892392754554749, 0.9461498260498047, 0.9459692239761353, 0.8894765377044678, 0.88979172706604, 0.8985225558280945, 0.873849630355835, 0.8574745059013367, 0.8919147253036499, 0.8610530495643616, 0.8209944367408752, 0.8400136828422546, 0.8302999138832092, 0.8297057747840881, 0.8122878670692444, 0.8362439274787903, 0.8269640803337097, 0.8191310167312622, 0.8305712938308716, 0.8108899593353271, 0.811695396900177, 0.8245003819465637, 0.8415810465812683, 0.8235909342765808, 0.8377881050109863, 0.8258172869682312, 0.8226974606513977, 0.8274762630462646, 0.8414554595947266, 0.8284008502960205, 0.8346948027610779, 0.8341615200042725, 0.821368932723999, 0.8289236426353455, 0.8376595973968506, 0.8464542031288147, 0.8632783889770508, 0.8630020618438721, 0.8375453352928162, 0.859058678150177, 0.8380244374275208, 0.8537830114364624, 0.8479199409484863, 0.8718411326408386, 0.8760567307472229, 0.8625208139419556, 0.8661711812019348, 0.8758351802825928, 0.861606240272522, 0.8749161958694458, 0.8924096822738647, 0.8822295665740967, 0.874457597732544, 0.8782715797424316, 0.8848695158958435, 0.90370774269104, 0.9070000052452087, 0.9169157147407532, 0.917144238948822, 0.9168707132339478, 0.9092469811439514, 0.914318859577179, 0.9264310598373413, 0.9516063332557678, 0.9478435516357422, 0.9292171001434326, 0.9232277274131775, 0.9424877762794495, 0.9358428716659546, 0.9369009733200073, 0.939956545829773, 0.942717969417572, 0.9486735463142395, 0.9607909321784973, 0.9565054774284363, 0.9506115317344666, 0.9473561644554138, 0.9574693441390991, 0.9591389894485474, 0.9569582939147949, 0.9581529498100281, 0.9635370969772339, 0.9571796655654907, 0.9754852652549744, 0.9785522222518921, 0.9989987015724182, 0.996816873550415, 0.9844714999198914, 1.0155678987503052, 1.023787021636963, 0.9903650283813477, 0.995780885219574, 0.9943647384643555, 1.0126196146011353, 1.0177479982376099, 0.9921655058860779], 'val_accuracy': [0.5113999843597412, 0.574999988079071, 0.6154000163078308, 0.6449999809265137, 0.6636000275611877, 0.6729000210762024, 0.6728000044822693, 0.6969000101089478, 0.6955999732017517, 0.6919999718666077, 0.6985999941825867, 0.705299973487854, 0.691100001335144, 0.7062000036239624, 0.7177000045776367, 0.7109000086784363, 0.7175999879837036, 0.7164999842643738, 0.722599983215332, 0.7179999947547913, 0.7260000109672546, 0.7225000262260437, 0.71670001745224, 0.7245000004768372, 0.7253000140190125, 0.7247999906539917, 0.7142999768257141, 0.72079998254776, 0.7210999727249146, 0.7240999937057495, 0.7271000146865845, 0.7278000116348267, 0.7264999747276306, 0.7294999957084656, 0.7257999777793884, 0.7235999703407288, 0.7332000136375427, 0.7267000079154968, 0.7317000031471252, 0.725600004196167, 0.7257000207901001, 0.7233999967575073, 0.729200005531311, 0.724399983882904, 0.7361999750137329, 0.7282999753952026, 0.7279999852180481, 0.7324000000953674, 0.7279000282287598, 0.7300000190734863, 0.7303000092506409, 0.7272999882698059, 0.7322999835014343, 0.7318999767303467, 0.7305999994277954, 0.7332000136375427, 0.7336000204086304, 0.7330999970436096, 0.7342000007629395, 0.7314000129699707, 0.730400025844574, 0.7285000085830688, 0.7235999703407288, 0.7257000207901001, 0.7250000238418579, 0.7278000116348267, 0.7281000018119812, 0.7293999791145325, 0.7268000245094299, 0.7299000024795532, 0.7318000197410583, 0.7275000214576721, 0.7300000190734863, 0.7275999784469604, 0.7281000018119812, 0.7261999845504761, 0.7260000109672546, 0.7293999791145325, 0.7275000214576721, 0.720300018787384, 0.7336999773979187, 0.7251999974250793, 0.7301999926567078, 0.7232000231742859, 0.7290999889373779, 0.7300999760627747, 0.7289000153541565, 0.7297999858856201, 0.7195000052452087, 0.7271000146865845, 0.7214999794960022, 0.7289999723434448, 0.7171000242233276, 0.7247999906539917, 0.7229999899864197, 0.7365000247955322, 0.7271999716758728, 0.7297999858856201, 0.7243000268936157, 0.7267000079154968]}\n"
          ],
          "name": "stdout"
        }
      ]
    },
    {
      "cell_type": "code",
      "metadata": {
        "id": "bTEg7ordrcU5"
      },
      "source": [
        "# retrieve a list of list results on training and test data sets for each training epoch\n",
        "acc = history.history['accuracy']                         \n",
        "val_acc = history.history['val_accuracy']\n",
        "loss = history.history['loss']\n",
        "val_loss = history.history['val_loss']\n",
        "\n",
        "epochs = range(len(acc))        ## get number of epochs"
      ],
      "execution_count": null,
      "outputs": []
    },
    {
      "cell_type": "code",
      "metadata": {
        "colab": {
          "base_uri": "https://localhost:8080/",
          "height": 350
        },
        "id": "x9YxGngRrfcw",
        "outputId": "1de53fe6-f250-4bb6-e6d8-2db24aadccc1"
      },
      "source": [
        "plt.figure(figsize=(7,5))\n",
        "plt.plot(epochs, acc,label='train_accuracy')\n",
        "plt.plot(epochs, val_acc,label='validation_accuracy')\n",
        "plt.xlabel('epochs')\n",
        "plt.ylabel('Accuracy')\n",
        "plt.legend(loc=\"lower right\")\n",
        "plt.title('Plot training and validation accuracy per epoch')\n",
        "plt.show()"
      ],
      "execution_count": null,
      "outputs": [
        {
          "output_type": "display_data",
          "data": {
            "image/png": "[encoded data removed]",
            "text/plain": [
              "<Figure size 504x360 with 1 Axes>"
            ]
          },
          "metadata": {
            "tags": [],
            "needs_background": "light"
          }
        }
      ]
    },
    {
      "cell_type": "code",
      "metadata": {
        "colab": {
          "base_uri": "https://localhost:8080/",
          "height": 350
        },
        "id": "PrSxH4g3rmXS",
        "outputId": "e7f49e45-1bdd-41b6-8568-4bd21209a262"
      },
      "source": [
        "plt.figure(figsize=(7,5))\n",
        "plt.plot(epochs, loss,label='train loss')\n",
        "plt.plot(epochs, val_loss,label='validation loss')\n",
        "plt.xlabel('epochs')\n",
        "plt.ylabel('Accuracy')\n",
        "plt.legend(loc=\"upper right\")\n",
        "plt.title('Plot training and validation loss per epoch')\n",
        "plt.show()"
      ],
      "execution_count": null,
      "outputs": [
        {
          "output_type": "display_data",
          "data": {
            "image/png": "[encoded data removed]",
            "text/plain": [
              "<Figure size 504x360 with 1 Axes>"
            ]
          },
          "metadata": {
            "tags": [],
            "needs_background": "light"
          }
        }
      ]
    },
    {
      "cell_type": "code",
      "metadata": {
        "colab": {
          "base_uri": "https://localhost:8080/"
        },
        "id": "8WLudTvrc3hc",
        "outputId": "e109c2a5-4ec2-4c74-e964-f32c5de59fff"
      },
      "source": [
        "print(\"[INFO] Evaluating ... \")\n",
        "(loss,accuracy) = cnn.evaluate(X_test,y_test,batch_size=batch_size,verbose=1)\n",
        "print(\"[INFO] accuracy : {:.2f}%\".format(accuracy*100))"
      ],
      "execution_count": null,
      "outputs": [
        {
          "output_type": "stream",
          "text": [
            "[INFO] Evaluating ... \n",
            "79/79 [==============================] - 0s 4ms/step - loss: 0.9922 - accuracy: 0.7267\n",
            "[INFO] accuracy : 72.67%\n"
          ],
          "name": "stdout"
        }
      ]
    },
    {
      "cell_type": "code",
      "metadata": {
        "colab": {
          "base_uri": "https://localhost:8080/",
          "height": 226
        },
        "id": "cEQTtnG5doSC",
        "outputId": "56947e03-a9ca-4baa-93c2-19c93ae013c2"
      },
      "source": [
        "show_image(X_test, y_test,153)"
      ],
      "execution_count": null,
      "outputs": [
        {
          "output_type": "display_data",
          "data": {
            "image/png": "[encoded data removed]",
            "text/plain": [
              "<Figure size 1080x216 with 1 Axes>"
            ]
          },
          "metadata": {
            "tags": [],
            "needs_background": "light"
          }
        }
      ]
    }
  ]
}